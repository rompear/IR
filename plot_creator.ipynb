{
 "cells": [
  {
   "cell_type": "code",
   "execution_count": 15,
   "metadata": {},
   "outputs": [],
   "source": [
    "import numpy as np\n",
    "import matplotlib.pyplot as plt\n",
    "\n",
    "import datetime\n",
    "import os"
   ]
  },
  {
   "cell_type": "code",
   "execution_count": 16,
   "metadata": {},
   "outputs": [],
   "source": [
    "CURRENT_MODEL_NAME = TEMP = \"LSTM_HARD\"\n",
    "#FANCY PRINT DICT = \n",
    "FP = {\"CBOW_EASY\": \"Baseline Easy\", \"CBOW_HARD\": \"Baseline Hard\", \n",
    "      \"CBOW_PRE_EASY\": \"CBOW Easy\", \"CBOW_PRE_HARD\": \"CBOW Hard\",\n",
    "      \"LSTM_EASY\": \"LSTM Easy\", \"LSTM_HARD\": \"LSTM Hard\", \"SEQ2SEQ_EASY\": \"SEQ2SEQ Easy\", \"SEQ2SEQ_HARD\": \"SEQ2SEQ Hard\"}\n",
    "ALL_MODEL_NAMES = [\"CBOW_EASY\", \"CBOW_HARD\", \"CBOW_PRE_EASY\", \"CBOW_PRE_HARD\", \"LSTM_HARD\", \"LSTM_EASY\", \"SEQ2SEQ_EASY\", \"SEQ2SEQ_HARD\"]"
   ]
  },
  {
   "cell_type": "code",
   "execution_count": 17,
   "metadata": {},
   "outputs": [],
   "source": [
    "def load(name):\n",
    "    file_name = './results/' + CURRENT_MODEL_NAME + '/data/' + name + '.npy'\n",
    "    return np.load(file_name)"
   ]
  },
  {
   "cell_type": "code",
   "execution_count": 18,
   "metadata": {},
   "outputs": [],
   "source": [
    "top1_val_list = load(\"top1_val\")\n",
    "top5_val_list = load(\"top5_val\")\n",
    "top1_train_list = load(\"top1_train\")\n",
    "top5_train_list = load(\"top5_train\")\n",
    "train_loss_list = load(\"train_loss\")\n",
    "top1 = load(\"top1_test\")\n",
    "top5 = load(\"top5_test\")\n"
   ]
  },
  {
   "cell_type": "code",
   "execution_count": 19,
   "metadata": {},
   "outputs": [],
   "source": [
    "def create_learning_curves(top1_val_list, top5_val_list, top1_train_list, top5_train_list, model_name=\"LSTM_EASY\"):\n",
    "    fig = plt.figure()\n",
    "    ax = plt.subplot(111)\n",
    "   \n",
    "    dt = str(datetime.datetime.now())\n",
    "    \n",
    "    ax.plot(top5_val_list, label='top5 validation', c='darkred')\n",
    "    ax.plot(top5_train_list, label='top5 train', c='royalblue')\n",
    "    \n",
    "    ax.plot(top1_val_list, linestyle=':', label='top1 validation', c='darkred')\n",
    "    ax.plot(top1_train_list, linestyle=':', label='top1 train', c='royalblue')\n",
    "    \n",
    "    box = ax.get_position()\n",
    "    ax.set_position([box.x0, box.y0, box.width * 0.75, box.height])\n",
    "\n",
    "    ax.legend(loc='center left', bbox_to_anchor=(1, 0.5))\n",
    "    plt.title('Accuracy of ' + FP[model_name])\n",
    "    plt.ylabel('Accuracy')\n",
    "    plt.xlabel('Number of iterations')\n",
    "    plt.savefig('./results/' + CURRENT_MODEL_NAME + '/accuracy'+dt+'.png')\n",
    "    plt.clf()\n",
    "    plt.cla()\n",
    "    plt.close()"
   ]
  },
  {
   "cell_type": "code",
   "execution_count": 20,
   "metadata": {},
   "outputs": [],
   "source": [
    "\"\"\"\n",
    "CREATE FOR EVERY MODEL THE CORESPONDING PLOT \n",
    "\"\"\"\n",
    "for MODEL in ALL_MODEL_NAMES:\n",
    "    CURRENT_MODEL_NAME = MODEL\n",
    "    top1_val_list = load(\"top1_val\")\n",
    "    top5_val_list = load(\"top5_val\")\n",
    "    top1_train_list = load(\"top1_train\")\n",
    "    top5_train_list = load(\"top5_train\")\n",
    "    train_loss_list = load(\"train_loss\")\n",
    "    top1 = load(\"top1_test\")\n",
    "    top5 = load(\"top5_test\")\n",
    "    create_learning_curves(top1_val_list, top5_val_list, top1_train_list, top5_train_list, model_name=MODEL)\n",
    "\n",
    "CURRENT_MODEL_NAME = TEMP\n"
   ]
  },
  {
   "cell_type": "code",
   "execution_count": 21,
   "metadata": {},
   "outputs": [
    {
     "name": "stdout",
     "output_type": "stream",
     "text": [
      "Baseline Easy TOP1 0.8978 TOP5 0.9954\n",
      "Baseline Hard TOP1 0.3972 TOP5 0.8824\n",
      "CBOW Easy TOP1 0.9166 TOP5 0.996\n",
      "CBOW Hard TOP1 0.3802 TOP5 0.8868\n",
      "LSTM Hard TOP1 0.3108 TOP5 0.8366\n",
      "LSTM Easy TOP1 0.8064 TOP5 0.9814\n",
      "SEQ2SEQ Easy TOP1 0.9304 TOP5 0.995\n",
      "SEQ2SEQ Hard TOP1 0.4428 TOP5 0.9202\n"
     ]
    }
   ],
   "source": [
    "\"\"\"\n",
    "CREATE FOR EVERY MODEL Accuracy THE CORESPONDING TEST TOP1 AND TOP5\n",
    "\"\"\"\n",
    "for MODEL in ALL_MODEL_NAMES:\n",
    "    CURRENT_MODEL_NAME = MODEL\n",
    "    top1 = load(\"top1_test\")\n",
    "    top5 = load(\"top5_test\")\n",
    "    print(FP[MODEL], \"TOP1\", top1, \"TOP5\", top5)\n",
    "\n",
    "CURRENT_MODEL_NAME = TEMP\n"
   ]
  },
  {
   "cell_type": "code",
   "execution_count": 22,
   "metadata": {},
   "outputs": [],
   "source": [
    "def create_loss(loss, model_name=\"LSTM_EASY\"):\n",
    "    fig = plt.figure()\n",
    "    ax = plt.subplot(111)\n",
    "   \n",
    "    dt = str(datetime.datetime.now())\n",
    "    \n",
    "    ax.plot(loss, label='loss', c='darkred')\n",
    "    \n",
    "    box = ax.get_position()\n",
    "    ax.set_position([box.x0, box.y0, box.width * 0.75, box.height])\n",
    "\n",
    "    ax.legend(loc='center left', bbox_to_anchor=(1, 0.5))\n",
    "    plt.title('Loss ' + FP[model_name])\n",
    "    plt.ylabel('Loss')\n",
    "    plt.xlabel('Number of iterations')\n",
    "    plt.savefig('./results/' + CURRENT_MODEL_NAME + '/loss'+dt+'.png')\n",
    "    plt.clf()\n",
    "    plt.cla()\n",
    "    plt.close()"
   ]
  },
  {
   "cell_type": "code",
   "execution_count": 23,
   "metadata": {},
   "outputs": [],
   "source": [
    "\"\"\"\n",
    "CREATE FOR EVERY MODEL THE LOSS [CORESPONDING PLOT]\n",
    "\"\"\"\n",
    "for MODEL in ALL_MODEL_NAMES:\n",
    "    CURRENT_MODEL_NAME = MODEL\n",
    "    train_loss_list = load(\"train_loss\")\n",
    "    create_loss(train_loss_list, model_name=MODEL)\n",
    "\n",
    "CURRENT_MODEL_NAME = TEMP\n"
   ]
  },
  {
   "cell_type": "code",
   "execution_count": null,
   "metadata": {},
   "outputs": [],
   "source": []
  }
 ],
 "metadata": {
  "kernelspec": {
   "display_name": "Python 3",
   "language": "python",
   "name": "python3"
  },
  "language_info": {
   "codemirror_mode": {
    "name": "ipython",
    "version": 3
   },
   "file_extension": ".py",
   "mimetype": "text/x-python",
   "name": "python",
   "nbconvert_exporter": "python",
   "pygments_lexer": "ipython3",
   "version": "3.6.2"
  }
 },
 "nbformat": 4,
 "nbformat_minor": 2
}
